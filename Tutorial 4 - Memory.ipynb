{
 "cells": [
  {
   "cell_type": "markdown",
   "id": "2fa1e388-b8f4-4fa3-be5a-ba7c6caae038",
   "metadata": {
    "tags": []
   },
   "source": [
    "# Tutorial 4 - Memory\n",
    "\n",
    "## Key Philosophy\n",
    "- It would be important to learn from past experience and improve the agentic framework - memory is key to that\n",
    "- You can add to the memory bank of your Agents pre-inference (by collecting from a pool of data prior to running the Agent), or during inference (add on in between running subtasks)\n",
    "\n",
    "## Use Memory in Agents\n",
    "- Agent class takes `memory_bank` as a parameter during initialisation of an `Agent`\n",
    "- memory_bank: class Dict[Memory]. Stores multiple types of memory for use by the agent. Customise the Memory config within the Memory class.\n",
    "    - Default: `memory_bank = {'Function': Memory(top_k = 5, mapper = lambda x: x.fn_description, approach = 'retrieve_by_ranker')}`\n",
    "    - Key: `Function` (Already Implemented Natively) - Does RAG over Task -> Function mapping\n",
    "    - Can add in more keys that would fit your use case. Retrieves similar items to task/overall plan (if able) for additional context in `get_next_subtasks()` and `use_llm()` function\n",
    "    - Side Note: RAG can also be done (and may be preferred) as a separate function of the Agent to retrieve more information when needed (so that we do not overload the Agent with information)\n",
    "\n",
    "## Memory Class\n",
    "- Retrieves top k memory items based on task \n",
    "- Inputs:\n",
    "    - `memory`: List. Default: Empty List. The list containing the memory items\n",
    "    - `top_k`: Int. Default: 3. The number of memory list items to retrieve\n",
    "    - `mapper`: Function. Maps the memory item to another form for comparison by ranker or LLM. Default: `lambda x: x`\n",
    "        - Example mapping: `lambda x: x.fn_description` (If x is a Class and the string you want to compare for similarity is the fn_description attribute of that class)\n",
    "    - `approach`: str. Either `retrieve_by_ranker` or `retrieve_by_llm` to retrieve memory items.\n",
    "        - Ranker is faster and cheaper as it compares via embeddings, but are inferior to LLM-based methods for contextual information\n",
    "    - `ranker`: `Ranker`. The Ranker which defines a similarity score between a query and a key. Default: OpenAI `text-embedding-3-small` model. \n",
    "        - Can be replaced with a function which returns similarity score from 0 to 1 when given a query and key\n",
    "        \n",
    "## Example Use Case\n",
    "- Helps to reduce number of functions present in LLM context for more accurate generation\n",
    "```python\n",
    "output = my_agent.run('Calculate 2**10 * (5 + 1) / 10')\n",
    "```\n",
    "\n",
    "`Original Function List: add_numbers, subtract_numbers, add_three_numbers, multiply_numbers, divide_numbers, power_of, GCD_of_two_numbers, modulo_of_numbers, absolute_difference, generate_poem_with_numbers, List_related_words, generate_quote`\n",
    "\n",
    "`Filtered Function Names: add_three_numbers, multiply_numbers, divide_numbers, power_of, modulo_of_numbers`"
   ]
  },
  {
   "cell_type": "code",
   "execution_count": 1,
   "id": "db31585a-1502-490c-ae8a-c60f9dcdb73f",
   "metadata": {
    "tags": []
   },
   "outputs": [],
   "source": [
    "# !pip install taskgen-ai"
   ]
  },
  {
   "cell_type": "code",
   "execution_count": 2,
   "id": "076adf5e-beb1-4b19-9078-34ab1b7d9afe",
   "metadata": {
    "tags": []
   },
   "outputs": [],
   "source": [
    "# Set up API key and do the necessary imports\n",
    "import os\n",
    "from taskgen import *\n",
    "\n",
    "os.environ['OPENAI_API_KEY'] = '<YOUR API KEY HERE>'"
   ]
  },
  {
   "cell_type": "markdown",
   "id": "a04abb86-6f74-4af5-8b72-b26a6029eb9f",
   "metadata": {},
   "source": [
    "# Use Case 1: Filtering Functions by Task"
   ]
  },
  {
   "cell_type": "code",
   "execution_count": 3,
   "id": "1d8c8dce-4710-462b-bbbd-715c23dded7c",
   "metadata": {
    "tags": []
   },
   "outputs": [],
   "source": [
    "import math\n",
    "# Define multiple functions\n",
    "fn_list = [\n",
    "    Function(\"Adds <num1> to <num2>\", output_format = {\"Output\": \"num1 + num2\"}, external_fn = lambda num1, num2: num1 + num2),\n",
    "    Function(\"Subtracts <num1> from <num2>\", output_format = {\"Output\": \"num1 - num2\"}, external_fn = lambda num1, num2: num1 + num2),\n",
    "    Function(\"Adds <num1>, <num2> and <num3>\", output_format = {\"Output\": \"num1 + num2 + num3\"}, external_fn = lambda num1, num2, num3: num1 + num2 + num3),\n",
    "    Function(\"Multiply <num1> by <num2>\", output_format = {\"Output\": \"num1 * num2\"}, external_fn = lambda num1, num2: num1 * num2),\n",
    "    Function(\"Divide <num1> by <num2>\", output_format = {\"Output\": \"num1 / num2\"}, external_fn = lambda num1, num2: num1 / num2),\n",
    "    Function(\"Returns <num1>**<num2>\", output_format = {\"Output\": \"num1**num2\"}, external_fn = lambda num1, num2: math.pow(num1,num2)),\n",
    "    Function(\"Returns Greatest Common Divisor of <num1> and <num2>\", output_format = {\"Output\": \"GCD(num1, num2)\"}, external_fn = lambda num1, num2: math.gcd(num1, num2)),\n",
    "    Function(\"Returns modulo of <num1> over <num2>\", output_format = {\"Output\": \"num1 % num2\"}, external_fn = lambda num1, num2: num1 % num2),\n",
    "    Function(\"Returns absolute difference between <num1> and <num2>\", output_format = {\"Output\": \"abs(num1 - num2)\"}, external_fn = lambda num1, num2: math.abs(num1-num2)),\n",
    "    Function(\"Generates a poem containing <num1> and <num2>\", output_format = {\"Output\": \"Poem\"}),\n",
    "    Function(\"Lists out <num> words related to <word>\", output_format = {\"Output\": \"List of words, type: list\"}),\n",
    "    Function(\"Generates a quote about <topic>\", output_format = {\"Output\": \"Quote\"})\n",
    "]"
   ]
  },
  {
   "cell_type": "code",
   "execution_count": 4,
   "id": "3aa5ac81-b850-44ca-a812-44fbe43d9943",
   "metadata": {
    "tags": []
   },
   "outputs": [],
   "source": [
    "my_agent = Agent('Generalist Agent', 'Does everything').assign_functions(fn_list)"
   ]
  },
  {
   "cell_type": "code",
   "execution_count": 5,
   "id": "b1a95964-28c6-457b-bda2-49f750013d9f",
   "metadata": {
    "tags": []
   },
   "outputs": [
    {
     "data": {
      "text/plain": [
       "[\"Name: use_llm\\nDescription: Used only when no other function can do the task\\nInput: []\\nOutput: {'Output': 'Output of LLM'}\\n\",\n",
       " 'Name: end_task\\nDescription: Use only when task is completed\\nInput: []\\nOutput: {}\\n',\n",
       " \"Name: add_numbers\\nDescription: Adds <num1> to <num2>\\nInput: ['num1', 'num2']\\nOutput: {'Output': 'num1 + num2'}\\n\",\n",
       " \"Name: subtract_numbers\\nDescription: Subtracts <num1> from <num2>\\nInput: ['num1', 'num2']\\nOutput: {'Output': 'num1 - num2'}\\n\",\n",
       " \"Name: add_three_numbers\\nDescription: Adds <num1>, <num2> and <num3>\\nInput: ['num1', 'num2', 'num3']\\nOutput: {'Output': 'num1 + num2 + num3'}\\n\",\n",
       " \"Name: multiply_numbers\\nDescription: Multiply <num1> by <num2>\\nInput: ['num1', 'num2']\\nOutput: {'Output': 'num1 * num2'}\\n\",\n",
       " \"Name: divide_numbers\\nDescription: Divide <num1> by <num2>\\nInput: ['num1', 'num2']\\nOutput: {'Output': 'num1 / num2'}\\n\",\n",
       " \"Name: power\\nDescription: Returns <num1>**<num2>\\nInput: ['num1', 'num2']\\nOutput: {'Output': 'num1**num2'}\\n\",\n",
       " \"Name: greatest_common_divisor\\nDescription: Returns Greatest Common Divisor of <num1> and <num2>\\nInput: ['num1', 'num2']\\nOutput: {'Output': 'GCD(num1, num2)'}\\n\",\n",
       " \"Name: modulo_of_numbers\\nDescription: Returns modulo of <num1> over <num2>\\nInput: ['num1', 'num2']\\nOutput: {'Output': 'num1 % num2'}\\n\",\n",
       " \"Name: absolute_difference\\nDescription: Returns absolute difference between <num1> and <num2>\\nInput: ['num1', 'num2']\\nOutput: {'Output': 'abs(num1 - num2)'}\\n\",\n",
       " \"Name: generate_poem_with_numbers\\nDescription: Generates a poem containing <num1> and <num2>\\nInput: ['num1', 'num2']\\nOutput: {'Output': 'Poem'}\\n\",\n",
       " \"Name: list_related_words\\nDescription: Lists out <num> words related to <word>\\nInput: ['num', 'word']\\nOutput: {'Output': 'List of words, type: list'}\\n\",\n",
       " \"Name: generate_quote\\nDescription: Generates a quote about <topic>\\nInput: ['topic']\\nOutput: {'Output': 'Quote'}\\n\"]"
      ]
     },
     "execution_count": 5,
     "metadata": {},
     "output_type": "execute_result"
    }
   ],
   "source": [
    "# see the auto-generated names of your functions :)\n",
    "my_agent.list_functions()"
   ]
  },
  {
   "cell_type": "code",
   "execution_count": 6,
   "id": "87357751-5f53-4e4b-adad-0487687d9ef4",
   "metadata": {
    "tags": []
   },
   "outputs": [
    {
     "data": {
      "text/plain": [
       "['subtract_numbers',\n",
       " 'add_three_numbers',\n",
       " 'add_numbers',\n",
       " 'divide_numbers',\n",
       " 'multiply_numbers']"
      ]
     },
     "execution_count": 6,
     "metadata": {},
     "output_type": "execute_result"
    }
   ],
   "source": [
    "# visualise how the Functions are chosen based on task - here you see subtract_numbers appearing at the front\n",
    "[f.fn_name for f in my_agent.memory_bank['Function'].retrieve_by_ranker('subtract numbers')]"
   ]
  },
  {
   "cell_type": "code",
   "execution_count": 7,
   "id": "ed842f9c-84b1-4176-9f70-e97f35e65639",
   "metadata": {
    "tags": []
   },
   "outputs": [
    {
     "name": "stdout",
     "output_type": "stream",
     "text": [
      "Filtered Function Names: add_three_numbers, multiply_numbers, divide_numbers, power, modulo_of_numbers\n",
      "Subtask identified: Calculate 2**10\n",
      "Calling function power with parameters {'num1': 2, 'num2': 10}\n",
      "> 1024.0\n",
      "\n",
      "Filtered Function Names: add_three_numbers, multiply_numbers, divide_numbers, greatest_common_divisor, modulo_of_numbers\n",
      "Subtask identified: Add 5 + 1\n",
      "Calling function add_three_numbers with parameters {'num1': 5, 'num2': 1, 'num3': 0}\n",
      "> 6\n",
      "\n",
      "Filtered Function Names: add_three_numbers, multiply_numbers, divide_numbers, greatest_common_divisor, modulo_of_numbers\n",
      "Subtask identified: Multiply the result by 2**10\n",
      "Calling function multiply_numbers with parameters {'num1': 6, 'num2': 1024}\n",
      "> 6144\n",
      "\n",
      "Filtered Function Names: add_three_numbers, multiply_numbers, divide_numbers, greatest_common_divisor, modulo_of_numbers\n",
      "Subtask identified: Divide the final result by 10\n",
      "Calling function divide_numbers with parameters {'num1': 6144, 'num2': 10}\n",
      "> 614.4\n",
      "\n",
      "Filtered Function Names: add_three_numbers, multiply_numbers, divide_numbers, greatest_common_divisor, modulo_of_numbers\n",
      "Task completed successfully!\n",
      "\n"
     ]
    }
   ],
   "source": [
    "my_agent.reset()\n",
    "output = my_agent.run('Calculate 2**10 * (5 + 1) / 10')"
   ]
  },
  {
   "cell_type": "code",
   "execution_count": 8,
   "id": "1ba75a65-7590-4552-a461-ec717d58a1f2",
   "metadata": {
    "tags": []
   },
   "outputs": [
    {
     "name": "stdout",
     "output_type": "stream",
     "text": [
      "Agent Name: Generalist Agent\n",
      "Agent Description: Does everything\n",
      "Available Functions: ['use_llm', 'end_task', 'add_numbers', 'subtract_numbers', 'add_three_numbers', 'multiply_numbers', 'divide_numbers', 'power', 'greatest_common_divisor', 'modulo_of_numbers', 'absolute_difference', 'generate_poem_with_numbers', 'list_related_words', 'generate_quote']\n",
      "Task: Calculate 2**10 * (5 + 1) / 10\n",
      "Subtasks Completed:\n",
      "Subtask: Calculate 2**10\n",
      "1024.0\n",
      "\n",
      "Subtask: Add 5 + 1\n",
      "6\n",
      "\n",
      "Subtask: Multiply the result by 2**10\n",
      "6144\n",
      "\n",
      "Subtask: Divide the final result by 10\n",
      "614.4\n",
      "\n",
      "Is Task Completed: True\n"
     ]
    }
   ],
   "source": [
    "my_agent.status()"
   ]
  },
  {
   "cell_type": "markdown",
   "id": "6260e2ee-5eae-44fb-8b70-76da88e16822",
   "metadata": {},
   "source": [
    "# Use Case 2: Adding more context based on task"
   ]
  },
  {
   "cell_type": "code",
   "execution_count": 9,
   "id": "79cf809e-f14f-4c56-b070-87289a22df25",
   "metadata": {
    "tags": []
   },
   "outputs": [],
   "source": [
    "# first append more context to the agent\n",
    "my_agent.memory_bank['Number Meanings'] = Memory(['Azo means 1', 'Boneti means 2', 'Andkh means 3', 'Bdakf means 4', 'dafdsk means 5', \n",
    "                                        'ldsfn means 6', 'sdkfn means 7', 'eri means 8', 'knewro means 9', 'mdsnfk means 10'], # some nonsense words\n",
    "                                                top_k = 5,  # choose top 5\n",
    "                                                mapper = lambda x: x.split(' ')[0]) # we compare with the task using only the first word, e.g. Azo, Boneti, Andkh"
   ]
  },
  {
   "cell_type": "code",
   "execution_count": 10,
   "id": "60aa15b8-9bf5-4339-a264-11ea93157164",
   "metadata": {
    "tags": []
   },
   "outputs": [
    {
     "name": "stdout",
     "output_type": "stream",
     "text": [
      "Filtered Function Names: add_numbers, add_three_numbers, multiply_numbers, modulo_of_numbers, generate_poem_with_numbers\n",
      "Subtask identified: Substitute words into numbers for Boneti, mdsnfk, and Azo\n",
      "Getting LLM to perform the following task: Substitute words into numbers for Boneti, mdsnfk, and Azo\n",
      "> Evaluate 2 + 10 + 1 = 13\n",
      "\n",
      "Filtered Function Names: add_numbers, subtract_numbers, add_three_numbers, multiply_numbers, generate_poem_with_numbers\n",
      "Subtask identified: Add the numerical values together\n",
      "Calling function add_three_numbers with parameters {'num1': 2, 'num2': 10, 'num3': 1}\n",
      "> 13\n",
      "\n",
      "Filtered Function Names: add_numbers, subtract_numbers, add_three_numbers, multiply_numbers, generate_poem_with_numbers\n",
      "Task completed successfully!\n",
      "\n"
     ]
    }
   ],
   "source": [
    "my_agent.reset()\n",
    "output = my_agent.run('Evaluate Boneti + mdsnfk + Azo. Substitute words into numbers first before calling a numerical function')"
   ]
  },
  {
   "cell_type": "markdown",
   "id": "a15f8b44-722c-4b75-8999-9065b432a535",
   "metadata": {},
   "source": [
    "# Comparison between embedding-based methods using Ranker and LLM-based similarity\n",
    "- Pros of embedding-based similarity comparison: Fast and cheap\n",
    "- Cons of embedding-based similarity comparison: Not as accurate\n",
    "- If using default `Ranker` function (OpenAI embedding model), automatically stores new embeddings generated in `database` and uses back known embeddings from `database` when possible, potentially helping to save time and costs\n",
    "- Select the right method for your use case\n",
    "\n",
    "- (Advanced Exercise) Instead of using cosine similarity using OpenAI Embeddings, create your own `ranking_fn` within `Ranker` that does similarity search the way you want it to"
   ]
  },
  {
   "cell_type": "code",
   "execution_count": 11,
   "id": "e9ebba4d-ae02-459f-8dc1-4fc265bd69b7",
   "metadata": {
    "tags": []
   },
   "outputs": [
    {
     "name": "stdout",
     "output_type": "stream",
     "text": [
      "Using embeddings ['hello']\n",
      "Using LLM ['hello']\n"
     ]
    }
   ],
   "source": [
    "database = {}\n",
    "memory = Memory(['hello', 'no worries', 'goodbye', 'hurray'], top_k = 1, ranker = Ranker(database = database))\n",
    "print('Using embeddings', memory.retrieve_by_ranker('Another word for hi'))\n",
    "print('Using LLM', memory.retrieve_by_llm('Another word for hi'))"
   ]
  },
  {
   "cell_type": "code",
   "execution_count": 12,
   "id": "89da08cb-4e23-4377-8a22-070e5de555e7",
   "metadata": {
    "tags": []
   },
   "outputs": [
    {
     "data": {
      "text/plain": [
       "dict_keys(['hello', 'Another word for hi', 'no worries', 'goodbye', 'hurray'])"
      ]
     },
     "execution_count": 12,
     "metadata": {},
     "output_type": "execute_result"
    }
   ],
   "source": [
    "# Visualise the keys in the database\n",
    "database.keys()"
   ]
  },
  {
   "cell_type": "code",
   "execution_count": 13,
   "id": "b940774b-93ee-478c-b051-dd11991276f8",
   "metadata": {
    "tags": []
   },
   "outputs": [
    {
     "name": "stdout",
     "output_type": "stream",
     "text": [
      "Using embeddings ['goodbye']\n",
      "Using LLM ['goodbye']\n"
     ]
    }
   ],
   "source": [
    "print('Using embeddings', memory.retrieve_by_ranker('What to say when leaving'))\n",
    "print('Using LLM', memory.retrieve_by_llm('What to say when leaving'))"
   ]
  },
  {
   "cell_type": "code",
   "execution_count": 14,
   "id": "da7b53c1-d389-40d0-95ac-abdbf174fd63",
   "metadata": {
    "tags": []
   },
   "outputs": [
    {
     "data": {
      "text/plain": [
       "dict_keys(['hello', 'Another word for hi', 'no worries', 'goodbye', 'hurray', 'What to say when leaving'])"
      ]
     },
     "execution_count": 14,
     "metadata": {},
     "output_type": "execute_result"
    }
   ],
   "source": [
    "# Visualise the keys in the database\n",
    "database.keys()"
   ]
  }
 ],
 "metadata": {
  "kernelspec": {
   "display_name": "Python 3 (ipykernel)",
   "language": "python",
   "name": "python3"
  },
  "language_info": {
   "codemirror_mode": {
    "name": "ipython",
    "version": 3
   },
   "file_extension": ".py",
   "mimetype": "text/x-python",
   "name": "python",
   "nbconvert_exporter": "python",
   "pygments_lexer": "ipython3",
   "version": "3.11.3"
  }
 },
 "nbformat": 4,
 "nbformat_minor": 5
}
