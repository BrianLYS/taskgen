{
 "cells": [
  {
   "cell_type": "markdown",
   "id": "2fa1e388-b8f4-4fa3-be5a-ba7c6caae038",
   "metadata": {
    "tags": []
   },
   "source": [
    "# Tutorial 5 - Additional Context (Advanced)\n",
    "\n",
    "- Agent takes in one additional parameter: `get_additional_context`\n",
    "- This is a function that takes in the agent's internal parameters (self) and outputs a string to the LLM to append to the prompts of any LLM-based calls internally, e.g. `get_next_subtask`, `use_llm`, `reply_to_user`\n",
    "- You have full flexibility to access anything the agent knows and configure an additional prompt to the agent\n",
    "\n",
    "## Uses\n",
    "- Used mainly to provide persistent variables to an agent that is not conveniently stored in `subtasks_completed`, e.g. ingredients remaining, location in grid for robot\n",
    "<br></br>\n",
    "- Implementing your own specific instructions to the default planner prompt\n",
    "    - Implement your own memory-based RAG / additional prompt instruction if you need more than what the default prompt can achieve\n",
    "<br></br>\n",
    "- Avoid Multiple Similar Subtasks in `subtasks_history`\n",
    "    - If you have multiple similar subtask names, then it is likely the Agent can be confused and think it has already done the subtask\n",
    "    - In this case, you can disambiguate by resetting the agent and store the persistent information in `shared_variables` and provide it to the agent using `get_additional_context`"
   ]
  },
  {
   "cell_type": "code",
   "execution_count": 1,
   "id": "db31585a-1502-490c-ae8a-c60f9dcdb73f",
   "metadata": {
    "tags": []
   },
   "outputs": [],
   "source": [
    "# !pip install taskgen-ai"
   ]
  },
  {
   "cell_type": "code",
   "execution_count": 1,
   "id": "076adf5e-beb1-4b19-9078-34ab1b7d9afe",
   "metadata": {
    "tags": []
   },
   "outputs": [],
   "source": [
    "# Set up API key and do the necessary imports\n",
    "import os\n",
    "from taskgen import *\n",
    "import random\n",
    "\n",
    "os.environ['OPENAI_API_KEY'] = '<YOUR API KEY HERE>'"
   ]
  },
  {
   "cell_type": "markdown",
   "id": "383b4a92-252f-48c2-a7bf-593b8f3fa238",
   "metadata": {
    "tags": []
   },
   "source": [
    "# Basic Example: AI-Powered Task Scheduler\n",
    "- This is how we can do a basic AI-powered chatbot that does scheduling (to be implemented)"
   ]
  },
  {
   "cell_type": "code",
   "execution_count": null,
   "id": "4c3cfc59-723d-4629-bc74-1abfb85d42d7",
   "metadata": {},
   "outputs": [],
   "source": []
  },
  {
   "cell_type": "code",
   "execution_count": null,
   "id": "0e373f31-bb0a-47c7-82e3-90327db0773b",
   "metadata": {},
   "outputs": [],
   "source": []
  },
  {
   "cell_type": "code",
   "execution_count": null,
   "id": "4a510c67-bd60-44dd-b0b3-ce7d341dc707",
   "metadata": {},
   "outputs": [],
   "source": []
  },
  {
   "cell_type": "code",
   "execution_count": null,
   "id": "8ce1c851-b043-473d-b965-08a34f599938",
   "metadata": {},
   "outputs": [],
   "source": []
  },
  {
   "cell_type": "markdown",
   "id": "2228ee79-0b3c-46a0-a83b-9e239034f5fb",
   "metadata": {},
   "source": [
    "# Advanced Example: Maze Navigator\n",
    "- We can use the additional context to let agent know present state in a 2D grid, and obstacle positions that the agent has seen\n",
    "- Task: Given current position and end position, navigate to end position using Up, Down, Left, Right"
   ]
  },
  {
   "cell_type": "code",
   "execution_count": 3,
   "id": "cd782f54-e77f-4040-8ced-49a16e3619b7",
   "metadata": {
    "tags": []
   },
   "outputs": [],
   "source": [
    "# These are the utility functions\n",
    "def generate_grid(size, start_pos, exit_pos, obstacles):\n",
    "    '''Generates a grid with obstacles'''\n",
    "    grid = [[' ' for _ in range(size)] for _ in range(size)]\n",
    "    grid[start_pos[0]][start_pos[1]] = 'S'  # Start\n",
    "    grid[exit_pos[0]][exit_pos[1]] = 'E'  # Exit\n",
    "    \n",
    "    # Mark a basic path (optional, for simplicity in ensuring a path)\n",
    "    # This part could be removed or replaced with a more sophisticated path marking\n",
    "    path = set()\n",
    "    for i in range(min(start_pos[0], exit_pos[0]), max(start_pos[0], exit_pos[0]) + 1):\n",
    "        path.add((i, start_pos[1]))\n",
    "    for j in range(min(start_pos[1], exit_pos[1]), max(start_pos[1], exit_pos[1]) + 1):\n",
    "        path.add((exit_pos[0], j))\n",
    "    \n",
    "    # Randomly add obstacles\n",
    "    count = 0\n",
    "    while count < obstacles:\n",
    "        r, c = random.randint(0, size-1), random.randint(0, size-1)\n",
    "        if (r, c) not in path and grid[r][c] != 'O' and (r, c) != start_pos and (r, c) != exit_pos:\n",
    "            grid[r][c] = 'O'\n",
    "            count += 1\n",
    "            \n",
    "    return grid\n",
    "\n",
    "def print_grid(grid):\n",
    "    '''Prints the grid'''\n",
    "    for row in grid:\n",
    "        print(' '.join(row))\n",
    "        \n",
    "def check_valid_moves(cur_pos, grid, grid_size):\n",
    "    '''Checks the valid moves in the grid given the cur_pos and grid_size. Returns list of valid moves within action space of Up, Down, Left, Right, Stay'''\n",
    "    row, col = cur_pos\n",
    "    mapping = {'Up': (-1, 0), 'Down': (1, 0), 'Left': (0, -1), 'Right': (0, 1), 'Stay': (0, 0)}\n",
    "    valid_moves = []\n",
    "    for key, value in mapping.items():\n",
    "        row_offset, col_offset = value\n",
    "        # check if valid move\n",
    "        if 0 <= row+row_offset < grid_size and 0 <= col+col_offset < grid_size and grid[row+row_offset][col+col_offset] != 'O':\n",
    "            valid_moves.append(key)\n",
    "    return valid_moves\n",
    "\n",
    "def update_obstacles(cur_pos, grid, grid_size, known_obstacle_pos):\n",
    "    '''Returns the updated known obstacle positions in the current grid given the cur_pos and grid_size'''\n",
    "    row, col = cur_pos\n",
    "    mapping = {'Up': (-1, 0), 'Down': (1, 0), 'Left': (0, -1), 'Right': (0, 1), 'Stay': (0, 0)}\n",
    "    for key, value in mapping.items():\n",
    "        row_offset, col_offset = value\n",
    "        next_row, next_col = row+row_offset, col+col_offset\n",
    "        # check if valid move\n",
    "        if 0 <= next_row < grid_size and 0 <= next_col < grid_size:\n",
    "            # adds in obstacle if observed\n",
    "            if grid[next_row][next_col] == 'O' and (next_row, next_col) not in known_obstacle_pos:\n",
    "                known_obstacle_pos.append((next_row, next_col))\n",
    "            # remove obstacle that is not observed\n",
    "            elif (next_row, next_col) in known_obstacle_pos:\n",
    "                known_obstacle_pos.remove((next_row, next_col))\n",
    "    return known_obstacle_pos"
   ]
  },
  {
   "cell_type": "code",
   "execution_count": 4,
   "id": "baf40af6-0c82-4458-bbf3-05e9e41a6bdd",
   "metadata": {},
   "outputs": [],
   "source": [
    "def move(shared_variables, action: str):\n",
    "    ''' Moves the agent according to the action and updates shared_variables '''\n",
    "    if action not in shared_variables[\"next_valid_moves\"]: \n",
    "        # if next move is not valid, reflect to agent\n",
    "        return f'The current move of {action} is not valid. You must choose one action from {shared_variables[\"next_valid_moves\"]}'\n",
    "    mapping = {'Up': (-1, 0), 'Down': (1, 0), 'Left': (0, -1), 'Right': (0, 1), 'Stay': (0, 0)}\n",
    "    \n",
    "    # Retrieve from shared variables\n",
    "    row, col = shared_variables[\"cur_pos\"]\n",
    "    grid = shared_variables[\"grid\"]\n",
    "    grid_size = shared_variables[\"grid_size\"]\n",
    "    known_obstacle_pos = shared_variables[\"known_obstacle_pos\"]\n",
    "    \n",
    "    # Do processing for the next action\n",
    "    row_offset, col_offset = mapping[action]\n",
    "    newpos = (row+row_offset, col+col_offset)\n",
    "    next_valid_moves = check_valid_moves(newpos, grid, grid_size)\n",
    "    known_obstacle_pos = update_obstacles(newpos, grid, grid_size, known_obstacle_pos)\n",
    "    \n",
    "    # shift the current agent position\n",
    "    grid[row][col] = ' '\n",
    "    grid[row+row_offset][col+col_offset] = 'S'\n",
    "    \n",
    "    # Store back into shared variables\n",
    "    shared_variables[\"cur_pos\"] = newpos\n",
    "    shared_variables[\"next_valid_moves\"] = next_valid_moves\n",
    "    shared_variables[\"known_obstacle_pos\"] = known_obstacle_pos\n",
    "    shared_variables[\"past_grid_states\"].append(newpos)\n",
    "    shared_variables[\"grid\"] = grid\n",
    "    \n",
    "    print_grid(grid)\n",
    "    \n",
    "    return f'Action successful. Agent moved from {(row, col)} to {newpos}'"
   ]
  },
  {
   "cell_type": "code",
   "execution_count": 5,
   "id": "5a42dea7-0a12-4595-bb89-9baeec09456b",
   "metadata": {},
   "outputs": [],
   "source": [
    "fn_list = [\n",
    "    Function(f'''Moves the agent by <action>. \n",
    "From initial position (x, y), this is what you end up with after doing actions\n",
    "{{'Up': (x-1, y), 'Down': (x+1, y), 'Left': (x, y-1), 'Right': (x, y+1), 'Stay': (x, y)}}''', \n",
    "             output_format = {\"Status\": \"Outcome of action\"}, external_fn = move)\n",
    "]"
   ]
  },
  {
   "cell_type": "code",
   "execution_count": 6,
   "id": "1a845b20-63f7-47eb-a7cc-296efa8e7d3a",
   "metadata": {
    "tags": []
   },
   "outputs": [],
   "source": [
    "def get_additional_context(agent):\n",
    "    ''' Outputs additional information to the agent '''\n",
    "    \n",
    "    # process additional context based on shared variables (this is what is called persistent variables - variables that will be updated each step)\n",
    "    additional_context = f'''Agent position in grid: {agent.shared_variables[\"cur_pos\"]}\n",
    "Exit Position: {agent.shared_variables[\"exit_pos\"]}\n",
    "Last 10 Visited Grid Positions: {agent.shared_variables[\"past_grid_states\"][:10]}\n",
    "Known Obstacle Positions: {agent.shared_variables[\"known_obstacle_pos\"]}\n",
    "Next Valid Moves: {agent.shared_variables[\"next_valid_moves\"]}'''\n",
    "    \n",
    "    # you can also influence how the planner performs the plan with additional details\n",
    "    additional_context += '''For Overall Plan, list the steps in detail, highlighting the predicted start and end positions for each action\n",
    "Example Task: ```Navigate from (0, 0) to (1, 1)```\n",
    "Example Overall Plan: ```['Move Down from (0, 0) to (1, 0), 'Move Right from (1, 0) to (1, 1)']```'''\n",
    "    \n",
    "    return additional_context\n",
    "\n",
    "# Customise your grid here\n",
    "# O means obstacles, S means start, E means end, blank means nothing there\n",
    "grid_size = 5  # Grid size\n",
    "start_pos = (random.randint(0, grid_size//2 - 1), random.randint(0, grid_size//2 - 1))  # Starting position\n",
    "exit_pos = (random.randint(grid_size//2, grid_size-1), random.randint(grid_size//2, grid_size-1))  # Exit position\n",
    "num_obstacles = 5  # Number of obstacles\n",
    "\n",
    "grid = generate_grid(grid_size, start_pos, exit_pos, num_obstacles)\n",
    "valid_moves = check_valid_moves(start_pos, grid, grid_size)\n",
    "\n",
    "# Assign your agent\n",
    "my_agent = Agent('Maze Navigator', \n",
    "                 f'''You are to move to the Exit Position of the maze. Task is completed when Agent's position is at Exit Position.\n",
    "At each step, you can only move Up, Down, Left, Right or Stay.\n",
    "You can only move to cells without obstacles. The valid moves will be made known to you at each time step.\n",
    "Top left of grid is (0, 0), bottom right is {(grid_size, grid_size)}.\n",
    "Grid position is referred to by (row, col)''', \n",
    "                 shared_variables = {\n",
    "                    \"cur_pos\": start_pos,\n",
    "                    \"exit_pos\": exit_pos,\n",
    "                    \"past_grid_states\": [],\n",
    "                    \"next_valid_moves\": valid_moves,\n",
    "                    \"known_obstacle_pos\": [],\n",
    "                    \"grid_size\": grid_size,\n",
    "                    \"grid\": grid}, \n",
    "                 max_subtasks = 10,\n",
    "                 get_additional_context = get_additional_context, # this is something new to store persistent states\n",
    "                 default_to_llm = False).assign_functions(fn_list)"
   ]
  },
  {
   "cell_type": "code",
   "execution_count": 7,
   "id": "1f220ad7-c539-4d71-96bf-ce7dd1e09b26",
   "metadata": {
    "tags": []
   },
   "outputs": [
    {
     "name": "stdout",
     "output_type": "stream",
     "text": [
      "### Starting Grid ###\n",
      "O        \n",
      "  S      \n",
      "    E    \n",
      "  O     O\n",
      "  O O    \n",
      "Subtask identified: Move Down from (1, 1) to (2, 1)\n",
      "Calling function move with parameters {'action': 'Down'}\n",
      "O        \n",
      "         \n",
      "  S E    \n",
      "  O     O\n",
      "  O O    \n",
      "> {'Status': 'Action successful. Agent moved from (1, 1) to (2, 1)'}\n",
      "\n",
      "Subtask identified: Move Right from (2, 1) to (2, 2)\n",
      "Calling function move with parameters {'action': 'Right'}\n",
      "O        \n",
      "         \n",
      "    S    \n",
      "  O     O\n",
      "  O O    \n",
      "> {'Status': 'Action successful. Agent moved from (2, 1) to (2, 2)'}\n",
      "\n",
      "Task completed successfully!\n",
      "\n"
     ]
    }
   ],
   "source": [
    "print('### Starting Grid ###')\n",
    "print_grid(grid)\n",
    "output = my_agent.run(f'Navigate from {start_pos} to {exit_pos}')"
   ]
  },
  {
   "cell_type": "code",
   "execution_count": 8,
   "id": "6fff506c-5ed6-45dc-8a0a-4e4215bd6da9",
   "metadata": {
    "tags": []
   },
   "outputs": [
    {
     "name": "stdout",
     "output_type": "stream",
     "text": [
      "Agent Name: Maze Navigator\n",
      "Agent Description: You are to move to the Exit Position of the maze. Task is completed when Agent's position is at Exit Position.\n",
      "At each step, you can only move Up, Down, Left, Right or Stay.\n",
      "You can only move to cells without obstacles. The valid moves will be made known to you at each time step.\n",
      "Top left of grid is (0, 0), bottom right is (5, 5).\n",
      "Grid position is referred to by (row, col)\n",
      "Available Functions: ['end_task', 'move']\n",
      "Shared Variables: ['cur_pos', 'exit_pos', 'past_grid_states', 'next_valid_moves', 'known_obstacle_pos', 'grid_size', 'grid']\n",
      "Task: Navigate from (1, 1) to (2, 2)\n",
      "Subtasks Completed:\n",
      "Subtask: Move Down from (1, 1) to (2, 1)\n",
      "{'Status': 'Action successful. Agent moved from (1, 1) to (2, 1)'}\n",
      "\n",
      "Subtask: Move Right from (2, 1) to (2, 2)\n",
      "{'Status': 'Action successful. Agent moved from (2, 1) to (2, 2)'}\n",
      "\n",
      "Is Task Completed: True\n"
     ]
    }
   ],
   "source": [
    "my_agent.status()"
   ]
  },
  {
   "cell_type": "markdown",
   "id": "fd80b4bc-c943-4330-a140-2d170ceb861e",
   "metadata": {},
   "source": [
    "## Advanced: Avoiding Multiple Similar Subtasks\n",
    "- In the above example, we made the Agent state the start and end position along with the action for each subtask, so as to disambiguate\n",
    "- This does not work for all positions since an agent might have to repeat that transition again sometime later\n",
    "\n",
    "- Solution:\n",
    "    - Preserve only the overall state in `shared_variables`\n",
    "    - Reset agent at each time step manually so `subtasks_history` will be reset"
   ]
  },
  {
   "cell_type": "code",
   "execution_count": 16,
   "id": "ab3b39ea-af44-4c35-83b0-f4386779f956",
   "metadata": {
    "tags": []
   },
   "outputs": [],
   "source": [
    "def get_additional_context(agent):\n",
    "    ''' Outputs additional information to the agent '''\n",
    "    \n",
    "    # process additional context based on shared variables (this is what is called persistent variables - variables that will be updated each step)\n",
    "    additional_context = f'''Agent position in grid: {agent.shared_variables[\"cur_pos\"]}\n",
    "Exit Position: {agent.shared_variables[\"exit_pos\"]}\n",
    "Last 10 Visited Grid Positions: {agent.shared_variables[\"past_grid_states\"][:10]}\n",
    "Known Obstacle Positions: {agent.shared_variables[\"known_obstacle_pos\"]}\n",
    "Next Valid Moves: {agent.shared_variables[\"next_valid_moves\"]}'''\n",
    "    \n",
    "    return additional_context\n",
    "\n",
    "# Customise your grid here\n",
    "# O means obstacles, S means start, E means end, blank means nothing there\n",
    "grid_size = 5  # Grid size\n",
    "start_pos = (random.randint(0, grid_size//2 - 1), random.randint(0, grid_size//2 - 1))  # Starting position\n",
    "exit_pos = (random.randint(grid_size//2, grid_size-1), random.randint(grid_size//2, grid_size-1))  # Exit position\n",
    "num_obstacles = 5  # Number of obstacles\n",
    "\n",
    "grid = generate_grid(grid_size, start_pos, exit_pos, num_obstacles)\n",
    "valid_moves = check_valid_moves(start_pos, grid, grid_size)\n",
    "\n",
    "# Assign your agent\n",
    "my_agent = Agent('Maze Navigator', \n",
    "                 f'''You are to move to the Exit Position of the maze. Task is completed when Agent's position is at Exit Position.\n",
    "At each step, you can only move Up, Down, Left, Right or Stay.\n",
    "You can only move to cells without obstacles. The valid moves will be made known to you at each time step.\n",
    "Top left of grid is (0, 0), bottom right is {(grid_size, grid_size)}.\n",
    "Grid position is referred to by (row, col)''', \n",
    "                 shared_variables = {\n",
    "                    \"cur_pos\": start_pos,\n",
    "                    \"exit_pos\": exit_pos,\n",
    "                    \"past_grid_states\": [],\n",
    "                    \"next_valid_moves\": valid_moves,\n",
    "                    \"known_obstacle_pos\": [],\n",
    "                    \"grid_size\": grid_size,\n",
    "                    \"grid\": grid}, \n",
    "                 max_subtasks = 10,\n",
    "                 get_additional_context = get_additional_context, # this is something new to store persistent states\n",
    "                 default_to_llm = False).assign_functions(fn_list)"
   ]
  },
  {
   "cell_type": "code",
   "execution_count": 17,
   "id": "186b9a3c-15f9-4db2-973f-b0144236bf23",
   "metadata": {
    "tags": []
   },
   "outputs": [
    {
     "name": "stdout",
     "output_type": "stream",
     "text": [
      "### Starting Grid ###\n",
      "        O\n",
      "S        \n",
      "        E\n",
      "O     O  \n",
      "O     O  \n",
      "Subtask identified: Move Right\n",
      "Calling function move with parameters {'action': 'Right'}\n",
      "        O\n",
      "  S      \n",
      "        E\n",
      "O     O  \n",
      "O     O  \n",
      "> {'Status': 'Action successful. Agent moved from (1, 0) to (1, 1)'}\n",
      "\n",
      "Subtask identified: Move Right\n",
      "Calling function move with parameters {'action': 'Right'}\n",
      "        O\n",
      "    S    \n",
      "        E\n",
      "O     O  \n",
      "O     O  \n",
      "> {'Status': 'Action successful. Agent moved from (1, 1) to (1, 2)'}\n",
      "\n",
      "Subtask identified: Move Right\n",
      "Calling function move with parameters {'action': 'Right'}\n",
      "        O\n",
      "      S  \n",
      "        E\n",
      "O     O  \n",
      "O     O  \n",
      "> {'Status': 'Action successful. Agent moved from (1, 2) to (1, 3)'}\n",
      "\n",
      "Subtask identified: Move Right\n",
      "Calling function move with parameters {'action': 'Right'}\n",
      "        O\n",
      "        S\n",
      "        E\n",
      "O     O  \n",
      "O     O  \n",
      "> {'Status': 'Action successful. Agent moved from (1, 3) to (1, 4)'}\n",
      "\n",
      "Subtask identified: Move down\n",
      "Calling function move with parameters {'action': 'Down'}\n",
      "        O\n",
      "         \n",
      "        S\n",
      "O     O  \n",
      "O     O  \n",
      "> {'Status': 'Action successful. Agent moved from (1, 4) to (2, 4)'}\n",
      "\n"
     ]
    }
   ],
   "source": [
    "print('### Starting Grid ###')\n",
    "print_grid(grid)\n",
    "\n",
    "num_moves = 0\n",
    "# Keep resetting subtask's history so that we don't confuse the agent due to previous moves\n",
    "# Also, if plan fails, start task from a subset of the earlier task by changing start position to current position\n",
    "while num_moves < 50:\n",
    "    my_agent.reset()\n",
    "    my_agent.run(f\"Navigate from {my_agent.shared_variables['cur_pos']} to {my_agent.shared_variables['exit_pos']}\", num_subtasks = 1)\n",
    "    # use rule-based task checks as agent may not get it right all the time\n",
    "    if my_agent.shared_variables['cur_pos'] == my_agent.shared_variables['exit_pos']: \n",
    "        my_agent.task_completed = True\n",
    "        break"
   ]
  },
  {
   "cell_type": "code",
   "execution_count": 18,
   "id": "59fc4f23-0ef1-47c1-8190-892b622aae31",
   "metadata": {
    "tags": []
   },
   "outputs": [
    {
     "name": "stdout",
     "output_type": "stream",
     "text": [
      "Agent Name: Maze Navigator\n",
      "Agent Description: You are to move to the Exit Position of the maze. Task is completed when Agent's position is at Exit Position.\n",
      "At each step, you can only move Up, Down, Left, Right or Stay.\n",
      "You can only move to cells without obstacles. The valid moves will be made known to you at each time step.\n",
      "Top left of grid is (0, 0), bottom right is (5, 5).\n",
      "Grid position is referred to by (row, col)\n",
      "Available Functions: ['end_task', 'move']\n",
      "Shared Variables: ['cur_pos', 'exit_pos', 'past_grid_states', 'next_valid_moves', 'known_obstacle_pos', 'grid_size', 'grid']\n",
      "Task: Navigate from (1, 4) to (2, 4)\n",
      "Subtasks Completed:\n",
      "Subtask: Move down\n",
      "{'Status': 'Action successful. Agent moved from (1, 4) to (2, 4)'}\n",
      "\n",
      "Is Task Completed: True\n"
     ]
    }
   ],
   "source": [
    "my_agent.status()"
   ]
  },
  {
   "cell_type": "markdown",
   "id": "47d1b9d0-15a4-4259-b0b1-2c626fcf95c7",
   "metadata": {},
   "source": [
    "## Can we do better? (To be added)\n",
    "- LLMs are not known for their planning abilities\n",
    "- Perhaps we can use an in-built planner to decide what to do for the next moves, based on what we know of the current position, exit position, obstacle positions\n",
    "- Imbue the plan as part of additional_context"
   ]
  }
 ],
 "metadata": {
  "kernelspec": {
   "display_name": "Python 3 (ipykernel)",
   "language": "python",
   "name": "python3"
  },
  "language_info": {
   "codemirror_mode": {
    "name": "ipython",
    "version": 3
   },
   "file_extension": ".py",
   "mimetype": "text/x-python",
   "name": "python",
   "nbconvert_exporter": "python",
   "pygments_lexer": "ipython3",
   "version": "3.11.3"
  }
 },
 "nbformat": 4,
 "nbformat_minor": 5
}
