{
 "cells": [
  {
   "cell_type": "markdown",
   "id": "2fa1e388-b8f4-4fa3-be5a-ba7c6caae038",
   "metadata": {
    "tags": []
   },
   "source": [
    "# Tutorial 2 - Hierarchical Agents\n",
    "\n",
    "## Functionalities:\n",
    "- An agent (referred as meta agent) can also assign other agents (referred as inner agents) as the function call, thereby creating a hierarchical structure\n",
    "- Whenever the inner agent is called, we will run the full inner agent's process until termination\n",
    "- Maximum number of steps for each agent (meta agent or inner agent) can be defined in `max_subtasks` (default: 5) variable when initialising agent\n",
    "\n",
    "## Additional Details:\n",
    "- The inner agent will take in meta agent's instruction as input\n",
    "- In addition, the inner agent will also have access to meta agent's task and subtasks completed for global context\n",
    "- Inner agent's output will directly go into meta agent's subtasks completed dictionary, enabling it to directly update global context\n",
    "\n",
    "## Use Agents Manually for greater control\n",
    "- You can use agents manually using `use_agents(agent_name: str, agent_task: str)` The outputs of the agents will be stored into `subtasks_completed` of the meta agent automatically\n",
    "- You can also interact with the meta agent using `reply_user(task: str, stateful: bool = False)`. This generates a reply for the agent to the `task` using `subtasks_completed` as context. If `stateful` is true, this will also store the output into `subtasks_completed`\n",
    "- If `subtasks_completed` is too lengthy, you can run `summarise_subtasks_completed(task: str)` This summarises `subtasks_completed` according to what is relevant to the `task`\n",
    "\n",
    "## Design Philosophy:\n",
    "- Bottom layers can get context of the top layers for more context-specific generation\n",
    "- Top layers choose bottom layers in a hierarchical fashion so as to limit the number of choices at each level for better performance\n",
    "- `subtasks_completed` serves as the global context for the meta agents and the inner agents, and can be summarised as needed, e.g. when performing a new task to filter out irrelevant information "
   ]
  },
  {
   "cell_type": "markdown",
   "id": "a3c27cfb-0612-45a1-8cec-fecd59bcd7d2",
   "metadata": {},
   "source": [
    "# Install TaskGen"
   ]
  },
  {
   "cell_type": "code",
   "execution_count": 1,
   "id": "076adf5e-beb1-4b19-9078-34ab1b7d9afe",
   "metadata": {
    "tags": []
   },
   "outputs": [],
   "source": [
    "# Set up API key and do the necessary imports\n",
    "import os\n",
    "from taskgen import *\n",
    "\n",
    "os.environ['OPENAI_API_KEY'] = '<YOUR API KEY HERE>'"
   ]
  },
  {
   "cell_type": "markdown",
   "id": "d485cc60-ad94-49ad-8a2d-204368a7065d",
   "metadata": {},
   "source": [
    "# Define Agents and Meta Agents"
   ]
  },
  {
   "cell_type": "code",
   "execution_count": 2,
   "id": "1f2304be-b9fa-4292-b20f-2ac6c6909015",
   "metadata": {
    "tags": []
   },
   "outputs": [],
   "source": [
    "def random_number_from_string(input_string):\n",
    "    ''' Returns a random number between 1 and 10 when given an input string '''\n",
    "    import hashlib\n",
    "    import random\n",
    "    # Hash the input string\n",
    "    hashed_string = hashlib.sha256(input_string.encode()).hexdigest()\n",
    "    \n",
    "    # Convert the hashed string to an integer\n",
    "    hashed_integer = int(hashed_string, 16)\n",
    "    \n",
    "    # Seed the random number generator with the hashed integer\n",
    "    random.seed(hashed_integer)\n",
    "    \n",
    "    # Generate a random number between 1 and 10\n",
    "    return random.randint(1, 10)"
   ]
  },
  {
   "cell_type": "code",
   "execution_count": 3,
   "id": "7222e82b-e030-4494-894d-41a61370c747",
   "metadata": {
    "tags": []
   },
   "outputs": [],
   "source": [
    "# assign a dish pricing function for economist\n",
    "def dish_price(list_of_dish_names: list) -> dict:\n",
    "    ''' Takes in <list_of_dish_names> and outputs price '''\n",
    "    if not isinstance(list_of_dish_names, list):\n",
    "        list_of_food_items = [list_of_dish_names]\n",
    "    output = []\n",
    "    for each in list_of_dish_names:\n",
    "        output.append('$'+str(random_number_from_string(each)))\n",
    "    return output\n",
    "    \n",
    "fp = Function(fn_description = \"Takes in <list_of_dish_names: list> and outputs price\", \n",
    "              output_format = {\"Price\": \"Dish name as key and price as value, type: list\"}, \n",
    "              examples = {\"list_of_dish_names\": [\"Pasta\", \"Pizza\"], \"Price\": ['$5', '$2']},\n",
    "              external_fn = dish_price)"
   ]
  },
  {
   "cell_type": "code",
   "execution_count": 4,
   "id": "fc770857-5ca0-43a1-a72f-5df7a97f7c02",
   "metadata": {
    "tags": []
   },
   "outputs": [],
   "source": [
    "# Define your meta-agent\n",
    "my_agent = Agent('Menu Creator', \n",
    "                 'Creates a menu for a restaurant. Menu item includes Name, Description, Ingredients, Pricing.')"
   ]
  },
  {
   "cell_type": "code",
   "execution_count": 5,
   "id": "7302c9ec-6e27-40c0-8a3c-3cd350964027",
   "metadata": {
    "jp-MarkdownHeadingCollapsed": true,
    "tags": []
   },
   "outputs": [],
   "source": [
    "# Define your agent list. Note you can just assign functions to the agent in place using .assign_functions(function_list)\n",
    "agent_list = [Agent('Chef', 'Takes in dish names and comes up with ingredients for all of htem at a go. Does not generate prices.'),\n",
    "    Agent('Boss', 'Takes in menu items and curates them according to price'),\n",
    "    Agent('Creative Writer', 'Takes in a cuisine type and generates interesting dish names and descriptions. Does not generate prices or ingredients.', max_subtasks = 2),\n",
    "    Agent('Economist', 'Takes in dish names and comes up with fictitious pricing for all of them at a go').assign_functions([fp])\n",
    "    ]"
   ]
  },
  {
   "cell_type": "code",
   "execution_count": 6,
   "id": "d4e9c84e-0ffa-4450-9522-6e21d86bad29",
   "metadata": {
    "tags": []
   },
   "outputs": [
    {
     "data": {
      "text/plain": [
       "<taskgen.agent.Agent at 0x10deef7d0>"
      ]
     },
     "execution_count": 6,
     "metadata": {},
     "output_type": "execute_result"
    }
   ],
   "source": [
    "my_agent.assign_agents(agent_list)"
   ]
  },
  {
   "cell_type": "markdown",
   "id": "b3a63cf7-0c50-4c6d-993a-8cee1de738d9",
   "metadata": {},
   "source": [
    "# Approach 1: Run a generic task with the Meta-Agent\n",
    "- Let us run a general task to create 5 menu items for an Italian restaurant\n",
    "- You can also specify how Agents interact with one another in the task, otherwise the Meta-Agent will infer what should be done"
   ]
  },
  {
   "cell_type": "code",
   "execution_count": 7,
   "id": "4aabd0c2-6470-43e1-b476-d77e2c85c0bb",
   "metadata": {
    "tags": []
   },
   "outputs": [
    {
     "name": "stdout",
     "output_type": "stream",
     "text": [
      "Subtask identified: Generate interesting dish names and descriptions using a Creative Writer\n",
      "Calling function Creative Writer with parameters {'instruction': 'Generate interesting dish names and descriptions using a Creative Writer'}\n",
      "\n",
      "### Start of Inner Agent: Creative Writer ###\n",
      "Subtask identified: Brainstorm dish names and descriptions for various cuisine types\n",
      "Getting LLM to perform the following task: Brainstorm dish names and descriptions for various cuisine types\n",
      "> As a Creative Writer, I can generate interesting dish names and descriptions for various cuisine types. If you provide me with a specific cuisine, I can create unique menu items for that category.\n",
      "\n",
      "Subtask identified: Create unique menu items for a specific cuisine type.\n",
      "Getting LLM to perform the following task: Create unique menu items for a specific cuisine type.\n",
      "> As a Creative Writer, I can generate interesting dish names and descriptions for various cuisine types. If you provide me with a specific cuisine, I can create unique menu items for that category.\n",
      "\n",
      "### End of Inner Agent: Creative Writer ###\n",
      "Subtask identified: Generate dish names and descriptions for Italian cuisine\n",
      "Calling function Creative Writer with parameters {'instruction': 'Italian'}\n",
      "\n",
      "### Start of Inner Agent: Creative Writer ###\n",
      "Subtask identified: Brainstorm dish names and descriptions for Italian cuisine.\n",
      "Getting LLM to perform the following task: Brainstorm dish names and descriptions for Italian cuisine.\n",
      "> 1. Dish Name: Bella Risotto\n",
      "Description: Creamy Arborio rice cooked with saffron, parmesan cheese, and a medley of seasonal vegetables.\n",
      "\n",
      "2. Dish Name: Truffle Tagliatelle\n",
      "Description: Fresh homemade tagliatelle pasta tossed in a decadent truffle cream sauce with wild mushrooms.\n",
      "\n",
      "3. Dish Name: Sicilian Seafood Linguine\n",
      "Description: Linguine pasta served with a rich tomato-based sauce, mixed seafood, capers, and fresh herbs.\n",
      "\n",
      "4. Dish Name: Tuscan Chicken Marsala\n",
      "Description: Tender chicken breast cooked in a Marsala wine sauce with mushrooms, served with roasted potatoes.\n",
      "\n",
      "5. Dish Name: Limoncello Tiramisu\n",
      "Description: A zesty twist on the classic tiramisu dessert, made with layers of mascarpone cheese, ladyfingers, and Limoncello liqueur.\n",
      "\n",
      "Subtask identified: Generate dish names and descriptions for Italian cuisine.\n",
      "Getting LLM to perform the following task: Generate dish names and descriptions for Italian cuisine.\n",
      "> 1. Dish Name: Bella Risotto\n",
      "Description: Creamy Arborio rice cooked with saffron, parmesan cheese, and a medley of seasonal vegetables.\n",
      "\n",
      "2. Dish Name: Truffle Tagliatelle\n",
      "Description: Fresh homemade tagliatelle pasta tossed in a decadent truffle cream sauce with wild mushrooms.\n",
      "\n",
      "3. Dish Name: Sicilian Seafood Linguine\n",
      "Description: Linguine pasta served with a rich tomato-based sauce, mixed seafood, capers, and fresh herbs.\n",
      "\n",
      "4. Dish Name: Tuscan Chicken Marsala\n",
      "Description: Tender chicken breast cooked in a Marsala wine sauce with mushrooms, served with roasted potatoes.\n",
      "\n",
      "5. Dish Name: Limoncello Tiramisu\n",
      "Description: A zesty twist on the classic tiramisu dessert, made with layers of mascarpone cheese, ladyfingers, and Limoncello liqueur.\"\n",
      "\n",
      "Task completed successfully!\n",
      "\n",
      "### End of Inner Agent: Creative Writer ###\n",
      "Subtask identified: Use Chef to get ingredients for the dishes.\n",
      "Calling function Chef with parameters {'instruction': 'Use Chef to get ingredients for the dishes.'}\n",
      "\n",
      "### Start of Inner Agent: Chef ###\n",
      "Subtask identified: Generate ingredients for the Italian dishes.\n",
      "Getting LLM to perform the following task: Generate ingredients for the Italian dishes.\n",
      "> As Chef, I have generated the ingredients for the Italian dishes: 1. Bella Risotto - Arborio rice, saffron, parmesan cheese, seasonal vegetables. 2. Truffle Tagliatelle - Tagliatelle pasta, truffle cream sauce, wild mushrooms. 3. Sicilian Seafood Linguine - Linguine pasta, tomato-based sauce, mixed seafood, capers, herbs. 4. Tuscan Chicken Marsala - Chicken breast, Marsala wine sauce, mushrooms, roasted potatoes. 5. Limoncello Tiramisu - Mascarpone cheese, ladyfingers, Limoncello liqueur.\n",
      "\n",
      "Subtask identified: Use Chef to get ingredients for the dishes.\n",
      "Getting LLM to perform the following task: Use Chef to get ingredients for the dishes.\n",
      "> As Chef, I have generated the ingredients for the Italian dishes: 1. Bella Risotto - Arborio rice, saffron, parmesan cheese, seasonal vegetables. 2. Truffle Tagliatelle - Tagliatelle pasta, truffle cream sauce, wild mushrooms. 3. Sicilian Seafood Linguine - Linguine pasta, tomato-based sauce, mixed seafood, capers, herbs. 4. Tuscan Chicken Marsala - Chicken breast, Marsala wine sauce, mushrooms, roasted potatoes. 5. Limoncello Tiramisu - Mascarpone cheese, ladyfingers, Limoncello liqueur.\n",
      "\n",
      "Task completed successfully!\n",
      "\n",
      "### End of Inner Agent: Chef ###\n",
      "Subtask identified: Assign fictitious prices to the dishes.\n",
      "Calling function Economist with parameters {'instruction': 'Assign fictitious prices to the Italian dishes.'}\n",
      "\n",
      "### Start of Inner Agent: Economist ###\n",
      "Subtask identified: Assign fictitious prices to the Italian dishes.\n",
      "Calling function dish_price with parameters {'list_of_dish_names': ['Bella Risotto', 'Truffle Tagliatelle', 'Sicilian Seafood Linguine', 'Tuscan Chicken Marsala', 'Limoncello Tiramisu']}\n",
      "> {'Price': ['$3', '$2', '$5', '$2', '$9']}\n",
      "\n",
      "Subtask identified: Use the dish_price function to assign prices to the Italian dishes.\n",
      "Calling function dish_price with parameters {'list_of_dish_names': ['Bella Risotto', 'Truffle Tagliatelle', 'Sicilian Seafood Linguine', 'Tuscan Chicken Marsala', 'Limoncello Tiramisu']}\n",
      "> {'Price': ['$3', '$2', '$5', '$2', '$9']}\n",
      "\n",
      "Task completed successfully!\n",
      "\n",
      "### End of Inner Agent: Economist ###\n",
      "Task completed successfully!\n",
      "\n"
     ]
    }
   ],
   "source": [
    "# my_agent.debug = False\n",
    "my_agent.reset()\n",
    "output = my_agent.run('Give me 5 menu items with name, description, ingredients and price based on Italian food choices.')"
   ]
  },
  {
   "cell_type": "code",
   "execution_count": 8,
   "id": "b6ec6b0f-9a70-4b47-b6ea-1c29cd88116f",
   "metadata": {
    "tags": []
   },
   "outputs": [
    {
     "data": {
      "text/plain": [
       "'1. Name: Bella Risotto\\n   Description: Creamy Arborio rice cooked with saffron, parmesan cheese, and a medley of seasonal vegetables.\\n   Ingredients: Arborio rice, saffron, parmesan cheese, seasonal vegetables.\\n   Price: $3\\n\\n2. Name: Truffle Tagliatelle\\n   Description: Fresh homemade tagliatelle pasta tossed in a decadent truffle cream sauce with wild mushrooms.\\n   Ingredients: Tagliatelle pasta, truffle cream sauce, wild mushrooms.\\n   Price: $2\\n\\n3. Name: Sicilian Seafood Linguine\\n   Description: Linguine pasta served with a rich tomato-based sauce, mixed seafood, capers, and fresh herbs.\\n   Ingredients: Linguine pasta, tomato-based sauce, mixed seafood, capers, herbs.\\n   Price: $5\\n\\n4. Name: Tuscan Chicken Marsala\\n   Description: Tender chicken breast cooked in a Marsala wine sauce with mushrooms, served with roasted potatoes.\\n   Ingredients: Chicken breast, Marsala wine sauce, mushrooms, roasted potatoes.\\n   Price: $2\\n\\n5. Name: Limoncello Tiramisu\\n   Description: A zesty twist on the classic tiramisu dessert, made with layers of mascarpone cheese, ladyfingers, and Limoncello liqueur.\\n   Ingredients: Mascarpone cheese, ladyfingers, Limoncello liqueur.\\n   Price: $9'"
      ]
     },
     "execution_count": 8,
     "metadata": {},
     "output_type": "execute_result"
    }
   ],
   "source": [
    "my_agent.reply_user()"
   ]
  },
  {
   "cell_type": "code",
   "execution_count": 9,
   "id": "5a4a96d3-2580-4989-8e3b-f240d1f12190",
   "metadata": {
    "tags": []
   },
   "outputs": [
    {
     "name": "stdout",
     "output_type": "stream",
     "text": [
      "Agent Name: Menu Creator\n",
      "Agent Description: Creates a menu for a restaurant. Menu item includes Name, Description, Ingredients, Pricing.\n",
      "Available Functions: ['use_llm', 'end_task', 'Chef', 'Boss', 'Creative Writer', 'Economist']\n",
      "Task: Give me 5 menu items with name, description, ingredients and price based on Italian food choices.\n",
      "Subtasks Completed:\n",
      "Subtask: Brainstorm dish names and descriptions for various cuisine types\n",
      "As a Creative Writer, I can generate interesting dish names and descriptions for various cuisine types. If you provide me with a specific cuisine, I can create unique menu items for that category.\n",
      "\n",
      "Subtask: Create unique menu items for a specific cuisine type.\n",
      "As a Creative Writer, I can generate interesting dish names and descriptions for various cuisine types. If you provide me with a specific cuisine, I can create unique menu items for that category.\n",
      "\n",
      "Subtask: Brainstorm dish names and descriptions for Italian cuisine.\n",
      "1. Dish Name: Bella Risotto\n",
      "Description: Creamy Arborio rice cooked with saffron, parmesan cheese, and a medley of seasonal vegetables.\n",
      "\n",
      "2. Dish Name: Truffle Tagliatelle\n",
      "Description: Fresh homemade tagliatelle pasta tossed in a decadent truffle cream sauce with wild mushrooms.\n",
      "\n",
      "3. Dish Name: Sicilian Seafood Linguine\n",
      "Description: Linguine pasta served with a rich tomato-based sauce, mixed seafood, capers, and fresh herbs.\n",
      "\n",
      "4. Dish Name: Tuscan Chicken Marsala\n",
      "Description: Tender chicken breast cooked in a Marsala wine sauce with mushrooms, served with roasted potatoes.\n",
      "\n",
      "5. Dish Name: Limoncello Tiramisu\n",
      "Description: A zesty twist on the classic tiramisu dessert, made with layers of mascarpone cheese, ladyfingers, and Limoncello liqueur.\n",
      "\n",
      "Subtask: Generate dish names and descriptions for Italian cuisine.\n",
      "1. Dish Name: Bella Risotto\n",
      "Description: Creamy Arborio rice cooked with saffron, parmesan cheese, and a medley of seasonal vegetables.\n",
      "\n",
      "2. Dish Name: Truffle Tagliatelle\n",
      "Description: Fresh homemade tagliatelle pasta tossed in a decadent truffle cream sauce with wild mushrooms.\n",
      "\n",
      "3. Dish Name: Sicilian Seafood Linguine\n",
      "Description: Linguine pasta served with a rich tomato-based sauce, mixed seafood, capers, and fresh herbs.\n",
      "\n",
      "4. Dish Name: Tuscan Chicken Marsala\n",
      "Description: Tender chicken breast cooked in a Marsala wine sauce with mushrooms, served with roasted potatoes.\n",
      "\n",
      "5. Dish Name: Limoncello Tiramisu\n",
      "Description: A zesty twist on the classic tiramisu dessert, made with layers of mascarpone cheese, ladyfingers, and Limoncello liqueur.\"\n",
      "\n",
      "Subtask: Generate ingredients for the Italian dishes.\n",
      "As Chef, I have generated the ingredients for the Italian dishes: 1. Bella Risotto - Arborio rice, saffron, parmesan cheese, seasonal vegetables. 2. Truffle Tagliatelle - Tagliatelle pasta, truffle cream sauce, wild mushrooms. 3. Sicilian Seafood Linguine - Linguine pasta, tomato-based sauce, mixed seafood, capers, herbs. 4. Tuscan Chicken Marsala - Chicken breast, Marsala wine sauce, mushrooms, roasted potatoes. 5. Limoncello Tiramisu - Mascarpone cheese, ladyfingers, Limoncello liqueur.\n",
      "\n",
      "Subtask: Use Chef to get ingredients for the dishes.\n",
      "As Chef, I have generated the ingredients for the Italian dishes: 1. Bella Risotto - Arborio rice, saffron, parmesan cheese, seasonal vegetables. 2. Truffle Tagliatelle - Tagliatelle pasta, truffle cream sauce, wild mushrooms. 3. Sicilian Seafood Linguine - Linguine pasta, tomato-based sauce, mixed seafood, capers, herbs. 4. Tuscan Chicken Marsala - Chicken breast, Marsala wine sauce, mushrooms, roasted potatoes. 5. Limoncello Tiramisu - Mascarpone cheese, ladyfingers, Limoncello liqueur.\n",
      "\n",
      "Subtask: Assign fictitious prices to the Italian dishes.\n",
      "{'Price': ['$3', '$2', '$5', '$2', '$9']}\n",
      "\n",
      "Subtask: Use the dish_price function to assign prices to the Italian dishes.\n",
      "{'Price': ['$3', '$2', '$5', '$2', '$9']}\n",
      "\n",
      "Is Task Completed: True\n"
     ]
    }
   ],
   "source": [
    "my_agent.status()"
   ]
  },
  {
   "cell_type": "markdown",
   "id": "18be4496-fc6b-4d61-957a-e42809989f89",
   "metadata": {},
   "source": [
    "# Approach 2: Step through the process yourself as the Meta Agent\n",
    "- You can run through your Agents one by one using the Meta Agent directly\n",
    "- The outputs of the Inner Agents will be stored into `subtasks_completed` directly"
   ]
  },
  {
   "cell_type": "code",
   "execution_count": 23,
   "id": "9b1828fd-975e-41c1-ad6c-5f1552286a82",
   "metadata": {
    "tags": []
   },
   "outputs": [
    {
     "name": "stdout",
     "output_type": "stream",
     "text": [
      "Agent Name: Menu Creator\n",
      "Agent Description: Creates a menu for a restaurant. Menu item includes Name, Description, Ingredients, Pricing.\n",
      "Available Functions: ['use_llm', 'end_task', 'Chef', 'Boss', 'Creative Writer', 'Economist']\n",
      "Task: No task assigned\n",
      "Subtasks Completed: None\n",
      "Is Task Completed: False\n"
     ]
    }
   ],
   "source": [
    "# reset the state of the agent\n",
    "my_agent.reset()\n",
    "# currently should have no task and nothing in subtasks_completed\n",
    "my_agent.status()"
   ]
  },
  {
   "cell_type": "code",
   "execution_count": 24,
   "id": "1cc2a7e3-407f-448b-a49b-92260f433527",
   "metadata": {},
   "outputs": [
    {
     "name": "stdout",
     "output_type": "stream",
     "text": [
      "Calling function Creative Writer with parameters {'instruction': 'Generate 5 Italian dish names and descriptions'}\n",
      "\n",
      "### Start of Inner Agent: Creative Writer ###\n",
      "Subtask identified: Research popular Italian dishes to gather inspiration for unique dish names and descriptions\n",
      "Getting LLM to perform the following task: Research popular Italian dishes to gather inspiration for unique dish names and descriptions\n",
      "> Drawing inspiration from popular Italian dishes, here are some unique dish names and descriptions: 1. Risotto al Limone Fresco - Creamy lemon risotto with a hint of freshness. 2. Pollo alla Cannella Croccante - Crispy cinnamon chicken with a savory twist. 3. Gnocchi al Pistacchio Affumicato - Smoked pistachio gnocchi for a unique flavor experience. 4. Salmone alla Vaniglia Piccante - Spicy vanilla salmon for a bold and aromatic dish. 5. Torta di Zucca e Caffè - Pumpkin and coffee cake, a delightful dessert fusion.\n",
      "\n",
      "Subtask identified: Create unique dish names and descriptions based on the research\n",
      "Getting LLM to perform the following task: Create unique dish names and descriptions based on the research\n",
      "> No task assigned\n",
      "\n",
      "Task completed successfully!\n",
      "\n",
      "### End of Inner Agent: Creative Writer ###\n"
     ]
    }
   ],
   "source": [
    "# This will run the Agent Creative Writer (with shared subtasks_completed as meta agent)\n",
    "# Output of task will go directly into subtasks_completed - we view the inner agent as simply an extension of the meta agent\n",
    "my_agent.use_agent('Creative Writer', 'Generate 5 Italian dish names and descriptions')"
   ]
  },
  {
   "cell_type": "code",
   "execution_count": 25,
   "id": "d7baae92-097a-47db-a083-58e3328451db",
   "metadata": {
    "tags": []
   },
   "outputs": [
    {
     "name": "stdout",
     "output_type": "stream",
     "text": [
      "Agent Name: Menu Creator\n",
      "Agent Description: Creates a menu for a restaurant. Menu item includes Name, Description, Ingredients, Pricing.\n",
      "Available Functions: ['use_llm', 'end_task', 'Chef', 'Boss', 'Creative Writer', 'Economist']\n",
      "Task: No task assigned\n",
      "Subtasks Completed:\n",
      "Subtask: Research popular Italian dishes to gather inspiration for unique dish names and descriptions\n",
      "Drawing inspiration from popular Italian dishes, here are some unique dish names and descriptions: 1. Risotto al Limone Fresco - Creamy lemon risotto with a hint of freshness. 2. Pollo alla Cannella Croccante - Crispy cinnamon chicken with a savory twist. 3. Gnocchi al Pistacchio Affumicato - Smoked pistachio gnocchi for a unique flavor experience. 4. Salmone alla Vaniglia Piccante - Spicy vanilla salmon for a bold and aromatic dish. 5. Torta di Zucca e Caffè - Pumpkin and coffee cake, a delightful dessert fusion.\n",
      "\n",
      "Subtask: Create unique dish names and descriptions based on the research\n",
      "No task assigned\n",
      "\n",
      "Is Task Completed: False\n"
     ]
    }
   ],
   "source": [
    "# subtasks_completed should be updated with the Creative Agent's outputs\n",
    "my_agent.status()"
   ]
  },
  {
   "cell_type": "code",
   "execution_count": 26,
   "id": "db731e85-444e-4a9d-8f31-e990594a6bf1",
   "metadata": {},
   "outputs": [
    {
     "name": "stdout",
     "output_type": "stream",
     "text": [
      "Calling function Chef with parameters {'instruction': 'Generate ingredients for the 5 Italian dishes'}\n",
      "\n",
      "### Start of Inner Agent: Chef ###\n",
      "Subtask identified: Research traditional Italian recipes for each dish and identify key ingredients\n",
      "Getting LLM to perform the following task: Research traditional Italian recipes for each dish and identify key ingredients\n",
      "> As Chef, I have researched traditional Italian recipes for the unique dish names provided. Here are the key ingredients for each dish: 1. Risotto al Limone Fresco - Arborio rice, lemon, chicken broth, butter, Parmesan cheese. 2. Pollo alla Cannella Croccante - Chicken, cinnamon, flour, eggs, breadcrumbs. 3. Gnocchi al Pistacchio Affumicato - Potatoes, flour, pistachios, smoked cheese, butter. 4. Salmone alla Vaniglia Piccante - Salmon, vanilla, chili flakes, olive oil, garlic. 5. Torta di Zucca e Caffè - Pumpkin, coffee, flour, sugar, eggs.\n",
      "\n",
      "Subtask identified: Generate ingredients for the 5 Italian dishes\n",
      "Getting LLM to perform the following task: Generate ingredients for the 5 Italian dishes\n",
      "> As Chef, I have gathered the ingredients for the 5 Italian dishes: 1. Risotto al Limone Fresco - Arborio rice, lemon, chicken broth, butter, Parmesan cheese. 2. Pollo alla Cannella Croccante - Chicken, cinnamon, flour, eggs, breadcrumbs. 3. Gnocchi al Pistacchio Affumicato - Potatoes, flour, pistachios, smoked cheese, butter. 4. Salmone alla Vaniglia Piccante - Salmon, vanilla, chili flakes, olive oil, garlic. 5. Torta di Zucca e Caffè - Pumpkin, coffee, flour, sugar, eggs.\n",
      "\n",
      "Task completed successfully!\n",
      "\n",
      "### End of Inner Agent: Chef ###\n"
     ]
    }
   ],
   "source": [
    "my_agent.use_agent('Chef', 'Generate ingredients for the 5 Italian dishes')"
   ]
  },
  {
   "cell_type": "code",
   "execution_count": 27,
   "id": "fd1b1fda-7e72-4669-8e40-f01207ad198f",
   "metadata": {
    "tags": []
   },
   "outputs": [
    {
     "name": "stdout",
     "output_type": "stream",
     "text": [
      "Calling function Economist with parameters {'instruction': 'Generate prices for the 5 Italian dishes'}\n",
      "\n",
      "### Start of Inner Agent: Economist ###\n",
      "Subtask identified: Generate prices for Risotto al Limone Fresco\n",
      "Calling function dish_price with parameters {'list_of_dish_names': ['Risotto al Limone Fresco']}\n",
      "> {'Price': ['$7']}\n",
      "\n",
      "Subtask identified: Assign prices to the remaining 4 Italian dishes based on the unique descriptions and key ingredients.\n",
      "Calling function dish_price with parameters {'list_of_dish_names': ['Pollo alla Cannella Croccante', 'Gnocchi al Pistacchio Affumicato', 'Salmone alla Vaniglia Piccante', 'Torta di Zucca e Caffè']}\n",
      "> {'Price': ['$4', '$7', '$4', '$1']}\n",
      "\n",
      "Task completed successfully!\n",
      "\n",
      "### End of Inner Agent: Economist ###\n"
     ]
    }
   ],
   "source": [
    "my_agent.use_agent('Economist', 'Generate prices for the 5 Italian dishes')"
   ]
  },
  {
   "cell_type": "code",
   "execution_count": 28,
   "id": "3d0ff21d-3684-49ad-9a59-8d63e8c181aa",
   "metadata": {
    "tags": []
   },
   "outputs": [
    {
     "name": "stdout",
     "output_type": "stream",
     "text": [
      "Calling function Boss with parameters {'instruction': 'Choose 3 Italian dishes to serve according to price'}\n",
      "\n",
      "### Start of Inner Agent: Boss ###\n",
      "Task completed successfully!\n",
      "\n",
      "### End of Inner Agent: Boss ###\n"
     ]
    }
   ],
   "source": [
    "my_agent.use_agent('Boss', 'Choose 3 Italian dishes to serve according to price')"
   ]
  },
  {
   "cell_type": "code",
   "execution_count": 29,
   "id": "9290ba86-c1a7-4d68-ba2e-5ffbe292f403",
   "metadata": {
    "tags": []
   },
   "outputs": [
    {
     "data": {
      "text/plain": [
       "'Risotto al Limone Fresco, Creamy lemon risotto with a hint of freshness, Arborio rice, lemon, chicken broth, butter, Parmesan cheese, $7\\nPollo alla Cannella Croccante, Crispy cinnamon chicken with a savory twist, Chicken, cinnamon, flour, eggs, breadcrumbs, $4\\nGnocchi al Pistacchio Affumicato, Smoked pistachio gnocchi for a unique flavor experience, Potatoes, flour, pistachios, smoked cheese, butter, $7\\nSalmone alla Vaniglia Piccante, Spicy vanilla salmon for a bold and aromatic dish, Salmon, vanilla, chili flakes, olive oil, garlic, $4\\nTorta di Zucca e CaffÃ¨, Pumpkin and coffee cake, a delightful dessert fusion, Pumpkin, coffee, flour, sugar, eggs, $1'"
      ]
     },
     "execution_count": 29,
     "metadata": {},
     "output_type": "execute_result"
    }
   ],
   "source": [
    "# Get a targeted response from your agent, and add this to subtask_completed\n",
    "my_agent.reply_user('Generate the menu items line by line in this format - Dish Name, Dish Description, Dish Ingredients, Dish Price', stateful = True)"
   ]
  },
  {
   "cell_type": "code",
   "execution_count": 30,
   "id": "8c134d97-36fc-4f33-880a-fbb79e2388a5",
   "metadata": {},
   "outputs": [
    {
     "name": "stdout",
     "output_type": "stream",
     "text": [
      "Agent Name: Menu Creator\n",
      "Agent Description: Creates a menu for a restaurant. Menu item includes Name, Description, Ingredients, Pricing.\n",
      "Available Functions: ['use_llm', 'end_task', 'Chef', 'Boss', 'Creative Writer', 'Economist']\n",
      "Task: No task assigned\n",
      "Subtasks Completed:\n",
      "Subtask: Research popular Italian dishes to gather inspiration for unique dish names and descriptions\n",
      "Drawing inspiration from popular Italian dishes, here are some unique dish names and descriptions: 1. Risotto al Limone Fresco - Creamy lemon risotto with a hint of freshness. 2. Pollo alla Cannella Croccante - Crispy cinnamon chicken with a savory twist. 3. Gnocchi al Pistacchio Affumicato - Smoked pistachio gnocchi for a unique flavor experience. 4. Salmone alla Vaniglia Piccante - Spicy vanilla salmon for a bold and aromatic dish. 5. Torta di Zucca e Caffè - Pumpkin and coffee cake, a delightful dessert fusion.\n",
      "\n",
      "Subtask: Create unique dish names and descriptions based on the research\n",
      "No task assigned\n",
      "\n",
      "Subtask: Research traditional Italian recipes for each dish and identify key ingredients\n",
      "As Chef, I have researched traditional Italian recipes for the unique dish names provided. Here are the key ingredients for each dish: 1. Risotto al Limone Fresco - Arborio rice, lemon, chicken broth, butter, Parmesan cheese. 2. Pollo alla Cannella Croccante - Chicken, cinnamon, flour, eggs, breadcrumbs. 3. Gnocchi al Pistacchio Affumicato - Potatoes, flour, pistachios, smoked cheese, butter. 4. Salmone alla Vaniglia Piccante - Salmon, vanilla, chili flakes, olive oil, garlic. 5. Torta di Zucca e Caffè - Pumpkin, coffee, flour, sugar, eggs.\n",
      "\n",
      "Subtask: Generate ingredients for the 5 Italian dishes\n",
      "As Chef, I have gathered the ingredients for the 5 Italian dishes: 1. Risotto al Limone Fresco - Arborio rice, lemon, chicken broth, butter, Parmesan cheese. 2. Pollo alla Cannella Croccante - Chicken, cinnamon, flour, eggs, breadcrumbs. 3. Gnocchi al Pistacchio Affumicato - Potatoes, flour, pistachios, smoked cheese, butter. 4. Salmone alla Vaniglia Piccante - Salmon, vanilla, chili flakes, olive oil, garlic. 5. Torta di Zucca e Caffè - Pumpkin, coffee, flour, sugar, eggs.\n",
      "\n",
      "Subtask: Generate prices for Risotto al Limone Fresco\n",
      "{'Price': ['$7']}\n",
      "\n",
      "Subtask: Assign prices to the remaining 4 Italian dishes based on the unique descriptions and key ingredients.\n",
      "{'Price': ['$4', '$7', '$4', '$1']}\n",
      "\n",
      "Subtask: Generate the menu items line by line in this format - Dish Name, Dish Description, Dish Ingredients, Dish Price\n",
      "Risotto al Limone Fresco, Creamy lemon risotto with a hint of freshness, Arborio rice, lemon, chicken broth, butter, Parmesan cheese, $7\n",
      "Pollo alla Cannella Croccante, Crispy cinnamon chicken with a savory twist, Chicken, cinnamon, flour, eggs, breadcrumbs, $4\n",
      "Gnocchi al Pistacchio Affumicato, Smoked pistachio gnocchi for a unique flavor experience, Potatoes, flour, pistachios, smoked cheese, butter, $7\n",
      "Salmone alla Vaniglia Piccante, Spicy vanilla salmon for a bold and aromatic dish, Salmon, vanilla, chili flakes, olive oil, garlic, $4\n",
      "Torta di Zucca e CaffÃ¨, Pumpkin and coffee cake, a delightful dessert fusion, Pumpkin, coffee, flour, sugar, eggs, $1\n",
      "\n",
      "Is Task Completed: False\n"
     ]
    }
   ],
   "source": [
    "my_agent.status()"
   ]
  },
  {
   "cell_type": "code",
   "execution_count": 31,
   "id": "8bdfad22-3b67-42d5-a4c6-cfd607dd22b1",
   "metadata": {
    "tags": []
   },
   "outputs": [],
   "source": [
    "# you can summarise the subtasks_history for the next task\n",
    "my_agent.summarise_subtasks_completed('Generate the 5 Italian dishes in menu format')"
   ]
  },
  {
   "cell_type": "code",
   "execution_count": 33,
   "id": "ea8ebd26-25e2-41b3-a2a3-78f03d324f3b",
   "metadata": {
    "tags": []
   },
   "outputs": [
    {
     "name": "stdout",
     "output_type": "stream",
     "text": [
      "Agent Name: Menu Creator\n",
      "Agent Description: Creates a menu for a restaurant. Menu item includes Name, Description, Ingredients, Pricing.\n",
      "Available Functions: ['use_llm', 'end_task', 'Chef', 'Boss', 'Creative Writer', 'Economist']\n",
      "Task: No task assigned\n",
      "Subtasks Completed:\n",
      "Subtask: Summary\n",
      "Risotto al Limone Fresco, Creamy lemon risotto with a hint of freshness, Arborio rice, lemon, chicken broth, butter, Parmesan cheese, $7\n",
      "Pollo alla Cannella Croccante, Crispy cinnamon chicken with a savory twist, Chicken, cinnamon, flour, eggs, breadcrumbs, $4\n",
      "Gnocchi al Pistacchio Affumicato, Smoked pistachio gnocchi for a unique flavor experience, Potatoes, flour, pistachios, smoked cheese, butter, $7\n",
      "Salmone alla Vaniglia Piccante, Spicy vanilla salmon for a bold and aromatic dish, Salmon, vanilla, chili flakes, olive oil, garlic, $4\n",
      "Torta di Zucca e CaffÃ¨, Pumpkin and coffee cake, a delightful dessert fusion, Pumpkin, coffee, flour, sugar, eggs, $1\n",
      "\n",
      "Is Task Completed: False\n"
     ]
    }
   ],
   "source": [
    "# subtask has been summarised, helping to reduce the context significantly for later task generation\n",
    "my_agent.status()"
   ]
  },
  {
   "cell_type": "code",
   "execution_count": null,
   "id": "a894fa53-d1ec-46da-96c4-30c47f43d6e5",
   "metadata": {},
   "outputs": [],
   "source": []
  }
 ],
 "metadata": {
  "kernelspec": {
   "display_name": "Python 3 (ipykernel)",
   "language": "python",
   "name": "python3"
  },
  "language_info": {
   "codemirror_mode": {
    "name": "ipython",
    "version": 3
   },
   "file_extension": ".py",
   "mimetype": "text/x-python",
   "name": "python",
   "nbconvert_exporter": "python",
   "pygments_lexer": "ipython3",
   "version": "3.11.3"
  }
 },
 "nbformat": 4,
 "nbformat_minor": 5
}
